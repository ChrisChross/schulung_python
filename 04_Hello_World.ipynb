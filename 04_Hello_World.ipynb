{
 "cells": [
  {
   "cell_type": "markdown",
   "metadata": {},
   "source": [
    "## Python starten\n",
    "Öffne die Kommandozeile (z.B. cmd) und starte python mit dem Befehl\n",
    "\n",
    "    python\n",
    "\n",
    "Es öffnet sich das Programm mit einer Meldung, die in etwa so aussieht:\n",
    "\n",
    "    Python 3.6.2 |Anaconda 2.2.0 (64-bit)| (default, Sep 24 2015, 18:32:42) [MSC v.1600 64 bit (AMD64)] on win32\n",
    "    Type \"help\", \"copyright\", \"credits\" or \"license\" for more information.\n",
    "    >>>\n",
    "    \n",
    "* Dies ist eine [*REPL*](http://en.wikipedia.org/wiki/Read%E2%80%93eval%E2%80%93print_loop) (*Read-eval-print loop*, auch *Language Shell*)\n",
    "* Eingaben werden ausgewertet und ausgegeben\n",
    "* Programmieren durch direkte Eingaben möglich\n",
    "* Beispiel:\n",
    "    \n",
    "     \n",
    "    \n",
    "    print(\"Hello World\")\n",
    "### Erstes Programm\n",
    "* Öffne einen Editor, z.B. Visual Studio Code und lege eine neue Datei an: hello_world.py\n",
    "* Folgender Inhalt in die Datei speichern:\n",
    "\n",
    "\n",
    "    print(\"Hello World\")\n",
    "* Öffne die Kommandozeile und starte das Programm mit dem Befehl:\n",
    "\n",
    "\n",
    "\n",
    "    python hello_world.py\n",
    "* Programm wird somit dauerhaft gespeichert und abgelegt\n",
    "* Übliche Arbeit: Editor und Kommandozeile\n",
    "* [IDEs](http://de.wikipedia.org/wiki/Integrierte_Entwicklungsumgebung) (später!) auch möglich\n",
    "\n",
    "### Dieses Dokument\n",
    "* Ist ein [Jupyter Notebook](http://jupyter.org/)\n",
    "* Beinhaltet Text und Python Code\n",
    "* Code kann verändert und ausgeführt werden\n",
    "* Ändere diese Kursunterlagen mit Notizen, Anmerkungen, Lösungen, usw.\n",
    "* z.B. \"Hello World\" in der nächsten Box"
   ]
  },
  {
   "cell_type": "code",
   "execution_count": null,
   "metadata": {},
   "outputs": [],
   "source": [
    "print(\"Hello World\")"
   ]
  },
  {
   "cell_type": "markdown",
   "metadata": {},
   "source": [
    "### Erste Aufgabe"
   ]
  },
  {
   "cell_type": "code",
   "execution_count": null,
   "metadata": {},
   "outputs": [],
   "source": [
    "# Schreibe ein Programm, dass \"Guten Morgen!\" ausgibt\n",
    "#"
   ]
  }
 ],
 "metadata": {
  "kernelspec": {
   "display_name": "Python 3",
   "language": "python",
   "name": "python3"
  },
  "language_info": {
   "codemirror_mode": {
    "name": "ipython",
    "version": 3
   },
   "file_extension": ".py",
   "mimetype": "text/x-python",
   "name": "python",
   "nbconvert_exporter": "python",
   "pygments_lexer": "ipython3",
   "version": "3.6.2"
  }
 },
 "nbformat": 4,
 "nbformat_minor": 1
}
